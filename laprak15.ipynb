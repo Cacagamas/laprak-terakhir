{
  "nbformat": 4,
  "nbformat_minor": 0,
  "metadata": {
    "colab": {
      "provenance": [],
      "authorship_tag": "ABX9TyO7gTiOM81buub0SJR37RlZ",
      "include_colab_link": true
    },
    "kernelspec": {
      "name": "python3",
      "display_name": "Python 3"
    },
    "language_info": {
      "name": "python"
    }
  },
  "cells": [
    {
      "cell_type": "markdown",
      "metadata": {
        "id": "view-in-github",
        "colab_type": "text"
      },
      "source": [
        "<a href=\"https://colab.research.google.com/github/Cacagamas/laprak-terakhir/blob/main/laprak15.ipynb\" target=\"_parent\"><img src=\"https://colab.research.google.com/assets/colab-badge.svg\" alt=\"Open In Colab\"/></a>"
      ]
    },
    {
      "cell_type": "code",
      "source": [
        "f=open('/content/Soal 1 laprak 15.txt')"
      ],
      "metadata": {
        "id": "DykaWrPSB6tF"
      },
      "execution_count": 14,
      "outputs": []
    },
    {
      "cell_type": "code",
      "source": [
        "f.read()"
      ],
      "metadata": {
        "colab": {
          "base_uri": "https://localhost:8080/",
          "height": 107
        },
        "id": "TIb456ATCDH8",
        "outputId": "a59f173e-d531-450f-a1a0-d96b60be32a7"
      },
      "execution_count": 15,
      "outputs": [
        {
          "output_type": "execute_result",
          "data": {
            "text/plain": [
              "'Soal 1 laprak 15\\nTeks Asli: Pada tanggal 1945-08-17 Indonesia merdeka. Indonesia memiliki beberapa pahlawan nasional, seperti Pangeran Diponegoro (TL: 1785-11-11), Pattimura (TL: 1783-06-08) dan Ki Hajar Dewantara (1889-05-02).\\nHasil: Pada tanggal 17-08-1945 Indonesia merdeka. Indonesia memiliki beberapa pahlawan nasional, seperti Pangeran Diponegoro (TL: 11-11-1785), Pattimura (TL: 08-06-1783), dan Ki Hajar Dewantara (02-05-1889).\\nSelisih dengan tanggal saat ini (01-06-2024):\\n* 17-08-1945: 28409 hari yang lalu\\n* 11-11-1785: 73735 hari yang lalu\\n* 08-06-1783: 74140 hari yang lalu\\n* 02-05-1889: 43807 hari yang lalu\\n\\n'"
            ],
            "application/vnd.google.colaboratory.intrinsic+json": {
              "type": "string"
            }
          },
          "metadata": {},
          "execution_count": 15
        }
      ]
    },
    {
      "cell_type": "code",
      "source": [
        "from datetime import datetime, timedelta\n",
        "import re\n",
        "\n",
        "# Fungsi untuk menemukan tanggal dalam teks dan mengonversinya\n",
        "def konversi_tanggal(teks):\n",
        "    # Pola untuk mencocokkan tanggal dalam format YYYY-MM-DD\n",
        "    pola_tanggal = r'\\b\\d{4}-\\d{2}-\\d{2}\\b'\n",
        "\n",
        "    # Temukan semua tanggal dalam teks\n",
        "    tanggal = re.findall(pola_tanggal, teks)\n",
        "\n",
        "    # Konversi dan hitung selisih hari\n",
        "    hasil = []\n",
        "    for tgl in tanggal:\n",
        "        tgl_obj = datetime.strptime(tgl, '%Y-%m-%d')\n",
        "        tgl_baru = tgl_obj.strftime('%d-%m-%Y')\n",
        "        selisih_hari = (datetime.now() - tgl_obj).days\n",
        "        hasil.append((tgl_baru, selisih_hari))\n",
        "\n",
        "    return hasil\n",
        "\n",
        "# Contoh teks\n",
        "teks_contoh = \"\"\"Soal 1 laprak 15\n",
        "Teks Asli: Pada tanggal 1945-08-17 Indonesia merdeka. Indonesia memiliki beberapa pahlawan nasional, seperti Pangeran Diponegoro (TL: 1785-11-11), Pattimura (TL: 1783-06-08) dan Ki Hajar Dewantara (1889-05-02).\n",
        "Hasil: Pada tanggal 17-08-1945 Indonesia merdeka. Indonesia memiliki beberapa pahlawan nasional, seperti Pangeran Diponegoro (TL: 11-11-1785), Pattimura (TL: 08-06-1783), dan Ki Hajar Dewantara (02-05-1889).\n",
        "Selisih dengan tanggal saat ini (01-06-2024):\n",
        "* 17-08-1945: 28409 hari yang lalu\n",
        "* 11-11-1785: 73735 hari yang lalu\n",
        "* 08-06-1783: 74140 hari yang lalu\n",
        "* 02-05-1889: 43807 hari yang lalu\n",
        "\"\"\"\n",
        "\n",
        "# Panggil fungsi untuk teks contoh\n",
        "tanggal_hasil = konversi_tanggal(teks_contoh)\n",
        "\n",
        "# Tampilkan hasil\n",
        "for tgl, selisih in tanggal_hasil:\n",
        "    print(f\"{tgl} (Selisih dengan hari ini: {selisih} hari)\")\n"
      ],
      "metadata": {
        "colab": {
          "base_uri": "https://localhost:8080/"
        },
        "id": "SIDDFth1CKS7",
        "outputId": "0fad6892-3026-4b2c-aee2-ac060c13a6f8"
      },
      "execution_count": 17,
      "outputs": [
        {
          "output_type": "stream",
          "name": "stdout",
          "text": [
            "17-08-1945 (Selisih dengan hari ini: 28778 hari)\n",
            "11-11-1785 (Selisih dengan hari ini: 87130 hari)\n",
            "08-06-1783 (Selisih dengan hari ini: 88017 hari)\n",
            "02-05-1889 (Selisih dengan hari ini: 49338 hari)\n"
          ]
        }
      ]
    },
    {
      "cell_type": "code",
      "source": [
        "f=open('/content/Soal 2  laprak 15.txt')"
      ],
      "metadata": {
        "id": "3V3OpKxqEi8v"
      },
      "execution_count": 21,
      "outputs": []
    },
    {
      "cell_type": "code",
      "source": [
        "f.read()"
      ],
      "metadata": {
        "colab": {
          "base_uri": "https://localhost:8080/",
          "height": 72
        },
        "id": "HKqQwfNjEnws",
        "outputId": "83819118-6970-480a-cad7-dd88ee7faa1f"
      },
      "execution_count": 22,
      "outputs": [
        {
          "output_type": "execute_result",
          "data": {
            "text/plain": [
              "'Soal 2  laprak 15\\nBerikut adalah daftar email dan nama pengguna dari mailing list: anton@mail.com dimiliki oleh antonius budi@gmail.co.id dimiliki oleh budi anwari slamet@getnada.com dimiliki oleh slamet slumut matahari@tokopedia.com dimiliki oleh toko matahari\\n'"
            ],
            "application/vnd.google.colaboratory.intrinsic+json": {
              "type": "string"
            }
          },
          "metadata": {},
          "execution_count": 22
        }
      ]
    },
    {
      "cell_type": "code",
      "source": [
        "import re\n",
        "import random\n",
        "import string\n",
        "\n",
        "# Fungsi untuk menghasilkan password acak\n",
        "def generate_password():\n",
        "    characters = string.ascii_letters + string.digits\n",
        "    password = ''.join(random.choice(characters) for i in range(8))\n",
        "    return password\n",
        "\n",
        "# Fungsi untuk mencari email dan username dalam teks\n",
        "def generate_passwords_from_emails(teks):\n",
        "    # Pola untuk mencocokkan email\n",
        "    pola_email = r'\\b[A-Za-z0-9._%+-]+@[A-Za-z0-9.-]+\\.[A-Z|a-z]{2,}\\b'\n",
        "\n",
        "    # Temukan semua email dalam teks\n",
        "    emails = re.findall(pola_email, teks)\n",
        "\n",
        "    # Ambil username dari setiap email dan hasilkan password\n",
        "    hasil = {}\n",
        "    for email in emails:\n",
        "        username = email.split('@')[0]\n",
        "        password = generate_password()\n",
        "        hasil[email] = {'username': username, 'password': password}\n",
        "\n",
        "    return hasil\n",
        "\n",
        "# Contoh teks\n",
        "teks_contoh = \"\"\"\n",
        "Berikut adalah daftar email dan nama pengguna dari mailing list:\n",
        "anton@mail.com dimiliki oleh antonius\n",
        "budi@gmail.co.id dimiliki oleh budi anwari\n",
        "slamet@getnada.com dimiliki oleh slamet slumut\n",
        "matahari@tokopedia.com dimiliki oleh toko matahari\n",
        "\"\"\"\n",
        "\n",
        "# Panggil fungsi untuk teks contoh\n",
        "hasil_password = generate_passwords_from_emails(teks_contoh)\n",
        "\n",
        "# Tampilkan hasil\n",
        "for email, info in hasil_password.items():\n",
        "    print(f\"{email} username: {info['username']} , password: {info['password']}\")\n"
      ],
      "metadata": {
        "colab": {
          "base_uri": "https://localhost:8080/"
        },
        "id": "Vs5nsxiJEtm9",
        "outputId": "57b68bdf-4798-4fa4-833b-da4b48246362"
      },
      "execution_count": 23,
      "outputs": [
        {
          "output_type": "stream",
          "name": "stdout",
          "text": [
            "anton@mail.com username: anton , password: lliQTZ5B\n",
            "budi@gmail.co.id username: budi , password: Fdid2uRe\n",
            "slamet@getnada.com username: slamet , password: 8fCzgHI2\n",
            "matahari@tokopedia.com username: matahari , password: 7QXIYs6M\n"
          ]
        }
      ]
    }
  ]
}